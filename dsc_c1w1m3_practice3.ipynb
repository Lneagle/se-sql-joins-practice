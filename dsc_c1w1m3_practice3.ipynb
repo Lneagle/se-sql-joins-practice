{
  "nbformat": 4,
  "nbformat_minor": 0,
  "metadata": {
    "colab": {
      "provenance": []
    },
    "kernelspec": {
      "name": "python3",
      "display_name": "Python 3"
    },
    "language_info": {
      "name": "python"
    }
  },
  "cells": [
    {
      "cell_type": "markdown",
      "source": [
        "# Practice for SQL Subqueries"
      ],
      "metadata": {
        "id": "aI__Asm1imMO"
      }
    },
    {
      "cell_type": "markdown",
      "source": [
        "Connect to the Database and import the appropriate libaries."
      ],
      "metadata": {
        "id": "tc3X47wHimEH"
      }
    },
    {
      "cell_type": "code",
      "execution_count": null,
      "metadata": {
        "id": "IdeNH-4HijhS"
      },
      "outputs": [],
      "source": [
        "# Run this code without change\n",
        "\n",
        "import sqlite3\n",
        "import pandas as pd\n",
        "conn = sqlite3.Connection('data.sqlite')"
      ]
    },
    {
      "cell_type": "markdown",
      "source": [
        "1. Write an Equivalent Query using a Subquery\n",
        "\n",
        "The following query works using a JOIN. Rewrite it so that it uses a subquery instead.\n",
        "\n",
        "```\n",
        "SELECT\n",
        "    customerNumber,\n",
        "    contactLastName,\n",
        "    contactFirstName\n",
        "FROM customers\n",
        "JOIN orders\n",
        "    USING(customerNumber)\n",
        "WHERE orderDate = '2003-01-31'\n",
        ";\n",
        "```"
      ],
      "metadata": {
        "id": "YPFXX9EBkqMW"
      }
    },
    {
      "cell_type": "markdown",
      "source": [
        "2. Select the Total Number of Orders for Each Product Name\n",
        "- Sort the results by the total number of items sold for that product."
      ],
      "metadata": {
        "id": "glk3hqZ7lDfp"
      }
    },
    {
      "cell_type": "code",
      "source": [
        "# Your code here"
      ],
      "metadata": {
        "id": "hEFK8pXvnQa2"
      },
      "execution_count": null,
      "outputs": []
    },
    {
      "cell_type": "markdown",
      "source": [
        "3. Select the Product Name and the Total Number of People Who Have Ordered Each Product\n",
        "- Sort the results in descending order."
      ],
      "metadata": {
        "id": "t-fBkdcvlNNg"
      }
    },
    {
      "cell_type": "code",
      "source": [
        "# Your code here"
      ],
      "metadata": {
        "id": "Bm4AtOaZnS2q"
      },
      "execution_count": null,
      "outputs": []
    },
    {
      "cell_type": "markdown",
      "source": [
        "4. Select the Employee Number, First Name, Last Name, City (of the office), and Office Code of the Employees who sold products that have been ordered by fewer than 20 people.\n",
        "- Hint:  To start, think about how you might break the problem up. Be sure that your results only list each employee once."
      ],
      "metadata": {
        "id": "EK424rBtlcDz"
      }
    },
    {
      "cell_type": "code",
      "source": [
        "# Your code here"
      ],
      "metadata": {
        "id": "lGSh7vF8nTl5"
      },
      "execution_count": null,
      "outputs": []
    },
    {
      "cell_type": "markdown",
      "source": [
        "5. Select the Employee Number, First Name, Last Name, and Number of Customers for Employees whose customers have an average credit limit over 15K."
      ],
      "metadata": {
        "id": "cHCU1ffKmDb4"
      }
    },
    {
      "cell_type": "code",
      "source": [
        "# Your code here"
      ],
      "metadata": {
        "id": "XE73e9NjnUiW"
      },
      "execution_count": null,
      "outputs": []
    }
  ]
}