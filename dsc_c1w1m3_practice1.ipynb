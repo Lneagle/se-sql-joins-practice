{
  "nbformat": 4,
  "nbformat_minor": 0,
  "metadata": {
    "colab": {
      "provenance": []
    },
    "kernelspec": {
      "name": "python3",
      "display_name": "Python 3"
    },
    "language_info": {
      "name": "python"
    }
  },
  "cells": [
    {
      "cell_type": "markdown",
      "source": [
        "# Practice for Join Statements with SQL"
      ],
      "metadata": {
        "id": "rJPSjCEzVrKC"
      }
    },
    {
      "cell_type": "markdown",
      "source": [
        "Import the necessary packages and connect to the database 'data.sqlite'."
      ],
      "metadata": {
        "id": "bA6istxLVwrv"
      }
    },
    {
      "cell_type": "code",
      "execution_count": null,
      "metadata": {
        "id": "DNjYtBW0avrw"
      },
      "outputs": [],
      "source": [
        "# Run without change\n",
        "\n",
        "# Libraries and database\n",
        "\n",
        "import sqlite3\n",
        "import pandas as pd\n",
        "\n",
        "conn = sqlite3.connect('data.sqlite')"
      ]
    },
    {
      "cell_type": "markdown",
      "source": [
        "1. Select the names (frist and last) of all employees in Boston"
      ],
      "metadata": {
        "id": "4s0N2cguV-fG"
      }
    },
    {
      "cell_type": "code",
      "source": [
        "# Your code here\n",
        "\n"
      ],
      "metadata": {
        "id": "nmZiPfKCV053"
      },
      "execution_count": null,
      "outputs": []
    },
    {
      "cell_type": "markdown",
      "source": [
        "2. Are there any offices that have zero employees?"
      ],
      "metadata": {
        "id": "wl0D6_XRWboc"
      }
    },
    {
      "cell_type": "code",
      "source": [
        "# Your code here\n"
      ],
      "metadata": {
        "id": "VhhV7qDfWa-v"
      },
      "execution_count": null,
      "outputs": []
    },
    {
      "cell_type": "markdown",
      "source": [
        "3. How many customers are there per office?"
      ],
      "metadata": {
        "id": "D69f7XnTWdMd"
      }
    },
    {
      "cell_type": "code",
      "source": [
        "# Your code here\n",
        "\n"
      ],
      "metadata": {
        "id": "-1QD3NXfWHQf"
      },
      "execution_count": null,
      "outputs": []
    },
    {
      "cell_type": "markdown",
      "source": [
        "4. Display the names of every individual product that each employee has sold as a dataframe."
      ],
      "metadata": {
        "id": "9hSMO9U-XOP1"
      }
    },
    {
      "cell_type": "code",
      "source": [
        "# Your code here\n"
      ],
      "metadata": {
        "id": "OEgTqE0WXQvh"
      },
      "execution_count": null,
      "outputs": []
    },
    {
      "cell_type": "markdown",
      "source": [
        "5. Display the number of products each employee has sold\n",
        "- Alphabetize the results by employee last name.\n",
        "- Use the quantityOrdered column from orderDetails.\n",
        "- Think about how to group the data when some employees might have the same first or last name.\n"
      ],
      "metadata": {
        "id": "z50u4KJDXtH5"
      }
    },
    {
      "cell_type": "code",
      "source": [
        "# Your code here\n",
        "\n"
      ],
      "metadata": {
        "id": "bYI2ByRIXz-8"
      },
      "execution_count": null,
      "outputs": []
    },
    {
      "cell_type": "markdown",
      "source": [
        "6.  Display the names of employees who have sold more than 200 different products."
      ],
      "metadata": {
        "id": "aicIzpuqYA-h"
      }
    },
    {
      "cell_type": "code",
      "source": [
        "# Your codde here\n",
        "\n"
      ],
      "metadata": {
        "id": "aH-08SqVYBJZ"
      },
      "execution_count": null,
      "outputs": []
    }
  ]
}